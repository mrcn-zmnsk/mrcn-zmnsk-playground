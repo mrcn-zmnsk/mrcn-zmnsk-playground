{
 "cells": [
  {
   "cell_type": "markdown",
   "id": "5c25921d",
   "metadata": {},
   "source": [
    "# K-means clustering\n",
    "\n",
    "NP hard problem, to cluster items into groups with minimum distance to group centroids.\n",
    "K-means is a greedy algorithm - finding local optimum.\n",
    "\n",
    "```\n",
    "function kmeans(k, points) is\n",
    "    centroids ← list of k starting centroids, random or intelligent (k-means++)\n",
    "    converged ← false\n",
    "\n",
    "    while not converged false do\n",
    "        // Create empty clusters\n",
    "        clusters ← list of k empty lists\n",
    "\n",
    "        // Assign each point to the nearest centroid\n",
    "        foreach point in points\n",
    "            point_centroids_distances = pointDistances(point, centroids)\n",
    "            c = idxOfMinDistanceCentroid(point_centroids_distances)\n",
    "            clusters[c].append(point)\n",
    "\n",
    "        // Recalculate centroids as the mean of each cluster\n",
    "        newCentroids = calculateCentroids(clusters)\n",
    "        \n",
    "        // Check for convergence\n",
    "        if newCentroids == centroids THEN\n",
    "            converged ← true\n",
    "        else\n",
    "            centroids ← newCentroids\n",
    "\n",
    "    return clusters\n",
    "```"
   ]
  },
  {
   "cell_type": "markdown",
   "id": "6f13e182",
   "metadata": {},
   "source": [
    "## Imperative program"
   ]
  },
  {
   "cell_type": "code",
   "execution_count": 211,
   "id": "934175fc",
   "metadata": {},
   "outputs": [],
   "source": [
    "points = [ (0,0), (0,1), (1,0), (1,1), (10,10),(11,10),(10,11),(11,11) ]\n"
   ]
  },
  {
   "cell_type": "code",
   "execution_count": 226,
   "id": "50279217",
   "metadata": {},
   "outputs": [
    {
     "data": {
      "text/plain": [
       "5.0"
      ]
     },
     "execution_count": 226,
     "metadata": {},
     "output_type": "execute_result"
    }
   ],
   "source": [
    "from math import sqrt\n",
    "\n",
    "def distance(p1, p2):\n",
    "    x1, y1 = p1\n",
    "    x2, y2 = p2\n",
    "    return sqrt( (x2-x1)**2 + (y2-y1)**2 )\n",
    "\n",
    "distance([0,0], [3,4])"
   ]
  },
  {
   "cell_type": "code",
   "execution_count": 230,
   "id": "459e855c",
   "metadata": {},
   "outputs": [
    {
     "data": {
      "text/plain": [
       "(2.0, 1.0)"
      ]
     },
     "execution_count": 230,
     "metadata": {},
     "output_type": "execute_result"
    }
   ],
   "source": [
    "def calc_centroid(cluster):\n",
    "    return (\n",
    "        sum(c[0] for c in cluster) / len(cluster),\n",
    "        sum(c[1] for c in cluster) / len(cluster)\n",
    "    )\n",
    "\n",
    "calc_centroid([(0,0), (4,2)])"
   ]
  },
  {
   "cell_type": "code",
   "execution_count": 231,
   "id": "314ade88",
   "metadata": {},
   "outputs": [
    {
     "data": {
      "text/plain": [
       "[(0.5, 0.5), (10.5, 10.5)]"
      ]
     },
     "execution_count": 231,
     "metadata": {},
     "output_type": "execute_result"
    }
   ],
   "source": [
    "def kmeans(k, points):\n",
    "    converged = False\n",
    "    centroids = points[:k]\n",
    "    \n",
    "    while converged == False:\n",
    "        clusters = [[] for _ in range(k)]    \n",
    "\n",
    "        for p in points:\n",
    "            distances = [distance(p, c) for c in centroids]\n",
    "            min_idx = distances.index(min(distances))\n",
    "            clusters[min_idx].append(p)\n",
    "\n",
    "        newCentroids = [calc_centroid(c) for c in clusters]\n",
    "\n",
    "        if all([x == y for x,y in zip(centroids, newCentroids)]):\n",
    "            converged = True\n",
    "        else:\n",
    "            centroids = newCentroids\n",
    "\n",
    "    return centroids\n",
    "    \n",
    "kmeans(2, points)"
   ]
  },
  {
   "cell_type": "code",
   "execution_count": 233,
   "id": "a88aee24",
   "metadata": {},
   "outputs": [
    {
     "name": "stdout",
     "output_type": "stream",
     "text": [
      "61 μs ± 7.09 μs per loop (mean ± std. dev. of 7 runs, 10,000 loops each)\n"
     ]
    }
   ],
   "source": [
    "%timeit kmeans(2, points)"
   ]
  },
  {
   "cell_type": "markdown",
   "id": "c7735c2e",
   "metadata": {},
   "source": [
    "## Torch"
   ]
  },
  {
   "cell_type": "code",
   "execution_count": 257,
   "id": "7c87f104",
   "metadata": {},
   "outputs": [],
   "source": [
    "from torch import tensor, float\n",
    "\n",
    "points_t = tensor([\n",
    "    [0,0],\n",
    "    [0,1],\n",
    "    [1,0],\n",
    "    [1,1],\n",
    "    [10,10],\n",
    "    [11,10],\n",
    "    [10,11],\n",
    "    [11,11],\n",
    "    [30,30],\n",
    "    [40,40]\n",
    "], dtype=float).cuda()"
   ]
  },
  {
   "cell_type": "markdown",
   "id": "71d8a2f8",
   "metadata": {},
   "source": [
    "input:\n",
    "- Points are [N, D] , N points of 2 Dims\n",
    "- Centroids are [K, D],  K centroids of 2 Dims\n",
    "\n",
    "desired output:\n",
    "- point-centroid distances, i.e. shape [K, N]\n",
    "\n",
    "how?   \n",
    "[K,D] ? [N,D] =?=> [K,N]\n",
    "- expand on K,N: [K, 1, D] - [1, N, D] => [K, N, D] \n",
    "- reduce on D:   [K, N, D] => [K,N]\n",
    "\n",
    "Using [None] to unsqueeze.\n",
    "- Points [1, N, D] means we're treating Nx2D points as one batch, and we will broadcast (sort-of duplicate) this batch to match other matrix dimension\n",
    "- Centroids [K, 1, D] means we're treating single 2D centroid as broadcasting (duplicating) target\n",
    "Together, we mean take all points for each centroid, and broadcast each centroid to each point.\n",
    "\n",
    "sum(2) is aggregate reduction on the last dimension"
   ]
  },
  {
   "cell_type": "code",
   "execution_count": 258,
   "id": "0ad9309d",
   "metadata": {},
   "outputs": [
    {
     "name": "stdout",
     "output_type": "stream",
     "text": [
      "tensor([[1.0000, 1.0000, 2.2361],\n",
      "        [4.2426, 2.8284, 1.4142]], device='cuda:0')\n",
      "tensor([[1.0000, 1.0000, 2.2361],\n",
      "        [4.2426, 2.8284, 1.4142]], device='cuda:0')\n"
     ]
    },
    {
     "data": {
      "text/plain": [
       "(None, None)"
      ]
     },
     "execution_count": 258,
     "metadata": {},
     "output_type": "execute_result"
    }
   ],
   "source": [
    "import torch\n",
    "\n",
    "def distance_t(ps, cs):\n",
    "    return ((ps.unsqueeze(0) - cs.unsqueeze(1)).pow(2)).sum(2).sqrt()\n",
    "    #return ((cs.[:,None] - ps[None]).pow(2)).sum(2).sqrt()\n",
    "\n",
    "p = tensor([\n",
    "    [0,0],\n",
    "    [1,1],\n",
    "    [2,2]\n",
    "]).cuda()\n",
    "c = tensor([\n",
    "    [1,0],\n",
    "    [3,3]\n",
    "]).cuda()\n",
    "\n",
    "print(distance_t(p, c)), print(torch.cdist(c.float(), p.float(), 2))"
   ]
  },
  {
   "cell_type": "markdown",
   "id": "98ff94e4",
   "metadata": {},
   "source": [
    "Key insight is the `index_add_` method, capable of adding with a masked (with indexes) source"
   ]
  },
  {
   "cell_type": "code",
   "execution_count": 261,
   "id": "47710656",
   "metadata": {},
   "outputs": [
    {
     "data": {
      "text/plain": [
       "tensor([[35.0000, 35.0000],\n",
       "        [ 5.5000,  5.5000]], device='cuda:0')"
      ]
     },
     "execution_count": 261,
     "metadata": {},
     "output_type": "execute_result"
    }
   ],
   "source": [
    "import torch\n",
    "\n",
    "def newcentroids_t(points: tensor, c_idxs: tensor, k) -> tensor :\n",
    "    counts, sums = torch.zeros(k, dtype=torch.float).cuda(), torch.zeros((k, 2), dtype=torch.float).cuda()\n",
    "    counts.index_add_(0, c_idxs, torch.ones(points.shape[0]).cuda())\n",
    "    sums.index_add_(0, c_idxs, points)\n",
    "    return sums/counts.clamp_min(1).unsqueeze(1)    \n",
    "\n",
    "\n",
    "newcentroids_t(points_t, tensor([1,1,1,1,1,1,1,1,0,0]).cuda(), 2)"
   ]
  },
  {
   "cell_type": "code",
   "execution_count": 4,
   "id": "7d0a1978",
   "metadata": {},
   "outputs": [],
   "source": [
    "def get_indexes(distances: tensor, k):\n",
    "    idx = distances.argmin(0)\n",
    "    u = idx.unique()\n",
    "    if len(u) < k:\n",
    "        for i in range(k):\n",
    "            if not i in u:\n",
    "                furthest = distances.min(0).values.argsort(descending=True)[0]       \n",
    "                idx[furthest] = i\n",
    "\n",
    "    return idx\n",
    "    "
   ]
  },
  {
   "cell_type": "code",
   "execution_count": 262,
   "id": "66628125",
   "metadata": {},
   "outputs": [
    {
     "data": {
      "text/plain": [
       "tensor([[ 0.0000,  0.5000],\n",
       "        [10.5000, 10.5000],\n",
       "        [35.0000, 35.0000],\n",
       "        [ 1.0000,  0.5000]], device='cuda:0')"
      ]
     },
     "execution_count": 262,
     "metadata": {},
     "output_type": "execute_result"
    }
   ],
   "source": [
    "def kmean_t(k, points: tensor, max_iterations=100):\n",
    "    centroids = points[torch.randperm(len(points))[:k]]\n",
    "    \n",
    "    for _ in range(max_iterations):\n",
    "        distances = distance_t(points, centroids)\n",
    "        point_to_centroid_idx = get_indexes(distances, k)\n",
    "        newCentroids = newcentroids_t(points, point_to_centroid_idx, k)\n",
    "\n",
    "        if torch.all(centroids == newCentroids):\n",
    "            return centroids\n",
    "        else:\n",
    "            centroids = newCentroids\n",
    "\n",
    "    raise StopIteration()\n",
    "\n",
    "\n",
    "kmean_t(4, points_t)"
   ]
  },
  {
   "cell_type": "code",
   "execution_count": 263,
   "id": "51ce5782",
   "metadata": {},
   "outputs": [
    {
     "name": "stdout",
     "output_type": "stream",
     "text": [
      "6.46 ms ± 1.84 ms per loop (mean ± std. dev. of 7 runs, 100 loops each)\n"
     ]
    }
   ],
   "source": [
    "%timeit kmean_t(3, points_t)"
   ]
  }
 ],
 "metadata": {
  "kernelspec": {
   "display_name": ".venv",
   "language": "python",
   "name": "python3"
  },
  "language_info": {
   "codemirror_mode": {
    "name": "ipython",
    "version": 3
   },
   "file_extension": ".py",
   "mimetype": "text/x-python",
   "name": "python",
   "nbconvert_exporter": "python",
   "pygments_lexer": "ipython3",
   "version": "3.13.7"
  }
 },
 "nbformat": 4,
 "nbformat_minor": 5
}
